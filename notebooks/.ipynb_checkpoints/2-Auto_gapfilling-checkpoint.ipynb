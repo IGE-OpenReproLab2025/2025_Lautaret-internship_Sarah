{
 "cells": [
  {
   "cell_type": "markdown",
   "id": "9d0cc3c4-8115-4269-a4ba-b65f791b08eb",
   "metadata": {},
   "source": [
    "# Gapfilling Lautaret's data (all data except precipitation)\n",
    "\n",
    "--- \n",
    "**Date** : 30/04/2025 \\\n",
    "**Data used** : Lautaret's data : *https://gricad-gitlab.univ-grenoble-alpes.fr/lautaret/fluxalp/-/tree/master/data_clean_hydro_year?ref_type=heads* \\\n",
    "**Practical steps** :\n",
    "1. Read data with corrected precip\n",
    "2. Calculate the length of each gap\n",
    "3. Linear interpolation for small gaps\n",
    "4. Use a mean monthly day-cycle to fill bigger gaps\n",
    "5. List of dates left to manually fill for precipitation\n",
    "6. Write filled data in a file\n",
    "7. Ideas to go further"
   ]
  },
  {
   "cell_type": "markdown",
   "id": "4753d625-3ebf-4bea-800f-7a168f50716a",
   "metadata": {},
   "source": [
    "## Import"
   ]
  },
  {
   "cell_type": "code",
   "execution_count": 2,
   "id": "3aba0cdd-a568-42a3-abf0-abadad87c728",
   "metadata": {},
   "outputs": [],
   "source": [
    "import sys\n",
    "import pandas as pd\n",
    "import matplotlib.pyplot as plt\n",
    "import seaborn as sns\n",
    "\n",
    "sys.path.append(\"../scripts/\")\n",
    "import gap_filling as gp\n",
    "sns.set_theme()"
   ]
  },
  {
   "cell_type": "markdown",
   "id": "33af25f4-4c9a-4e0a-a3d2-7f78a7e978b2",
   "metadata": {},
   "source": [
    "## Read corrected precip flux'alp data 2018-2024"
   ]
  },
  {
   "cell_type": "code",
   "execution_count": 3,
   "id": "7696377c-91e7-483d-9430-2cd5b811f035",
   "metadata": {},
   "outputs": [
    {
     "name": "stderr",
     "output_type": "stream",
     "text": [
      "/tmp/ipykernel_102800/4054641741.py:1: DtypeWarning: Columns (1,51) have mixed types. Specify dtype option on import or set low_memory=False.\n",
      "  df_corrected = pd.read_csv('resulting_data/Fluxalp_corrected-snow-precip_2018_2024.dat')\n"
     ]
    },
    {
     "data": {
      "text/html": [
       "<div>\n",
       "<style scoped>\n",
       "    .dataframe tbody tr th:only-of-type {\n",
       "        vertical-align: middle;\n",
       "    }\n",
       "\n",
       "    .dataframe tbody tr th {\n",
       "        vertical-align: top;\n",
       "    }\n",
       "\n",
       "    .dataframe thead th {\n",
       "        text-align: right;\n",
       "    }\n",
       "</style>\n",
       "<table border=\"1\" class=\"dataframe\">\n",
       "  <thead>\n",
       "    <tr style=\"text-align: right;\">\n",
       "      <th></th>\n",
       "      <th>short_up_Avg</th>\n",
       "      <th>long_up_cor_Avg</th>\n",
       "      <th>Quantity_raw</th>\n",
       "      <th>AirTC_Avg</th>\n",
       "      <th>WindSpeed_Avg</th>\n",
       "      <th>Patm_Avg</th>\n",
       "      <th>HRair_Avg</th>\n",
       "    </tr>\n",
       "    <tr>\n",
       "      <th>datetime</th>\n",
       "      <th></th>\n",
       "      <th></th>\n",
       "      <th></th>\n",
       "      <th></th>\n",
       "      <th></th>\n",
       "      <th></th>\n",
       "      <th></th>\n",
       "    </tr>\n",
       "  </thead>\n",
       "  <tbody>\n",
       "    <tr>\n",
       "      <th>2018-10-17 00:00:00+00:00</th>\n",
       "      <td>-1.439137</td>\n",
       "      <td>308.8568</td>\n",
       "      <td>NaN</td>\n",
       "      <td>5.4218</td>\n",
       "      <td>2.132</td>\n",
       "      <td>798.9</td>\n",
       "      <td>88.14690</td>\n",
       "    </tr>\n",
       "    <tr>\n",
       "      <th>2018-10-17 00:30:00+00:00</th>\n",
       "      <td>-2.261506</td>\n",
       "      <td>286.7975</td>\n",
       "      <td>0.0</td>\n",
       "      <td>5.4869</td>\n",
       "      <td>2.888</td>\n",
       "      <td>798.8</td>\n",
       "      <td>86.68269</td>\n",
       "    </tr>\n",
       "    <tr>\n",
       "      <th>2018-10-17 01:00:00+00:00</th>\n",
       "      <td>-2.656018</td>\n",
       "      <td>280.6507</td>\n",
       "      <td>0.0</td>\n",
       "      <td>5.2648</td>\n",
       "      <td>3.013</td>\n",
       "      <td>798.7</td>\n",
       "      <td>86.10909</td>\n",
       "    </tr>\n",
       "    <tr>\n",
       "      <th>2018-10-17 01:30:00+00:00</th>\n",
       "      <td>-2.617169</td>\n",
       "      <td>279.7586</td>\n",
       "      <td>0.0</td>\n",
       "      <td>5.2203</td>\n",
       "      <td>1.799</td>\n",
       "      <td>798.6</td>\n",
       "      <td>87.65050</td>\n",
       "    </tr>\n",
       "    <tr>\n",
       "      <th>2018-10-17 02:00:00+00:00</th>\n",
       "      <td>-3.045069</td>\n",
       "      <td>264.3238</td>\n",
       "      <td>0.0</td>\n",
       "      <td>4.7687</td>\n",
       "      <td>2.194</td>\n",
       "      <td>798.4</td>\n",
       "      <td>89.26050</td>\n",
       "    </tr>\n",
       "  </tbody>\n",
       "</table>\n",
       "</div>"
      ],
      "text/plain": [
       "                           short_up_Avg  long_up_cor_Avg  Quantity_raw  \\\n",
       "datetime                                                                 \n",
       "2018-10-17 00:00:00+00:00     -1.439137         308.8568           NaN   \n",
       "2018-10-17 00:30:00+00:00     -2.261506         286.7975           0.0   \n",
       "2018-10-17 01:00:00+00:00     -2.656018         280.6507           0.0   \n",
       "2018-10-17 01:30:00+00:00     -2.617169         279.7586           0.0   \n",
       "2018-10-17 02:00:00+00:00     -3.045069         264.3238           0.0   \n",
       "\n",
       "                           AirTC_Avg  WindSpeed_Avg  Patm_Avg  HRair_Avg  \n",
       "datetime                                                                  \n",
       "2018-10-17 00:00:00+00:00     5.4218          2.132     798.9   88.14690  \n",
       "2018-10-17 00:30:00+00:00     5.4869          2.888     798.8   86.68269  \n",
       "2018-10-17 01:00:00+00:00     5.2648          3.013     798.7   86.10909  \n",
       "2018-10-17 01:30:00+00:00     5.2203          1.799     798.6   87.65050  \n",
       "2018-10-17 02:00:00+00:00     4.7687          2.194     798.4   89.26050  "
      ]
     },
     "execution_count": 3,
     "metadata": {},
     "output_type": "execute_result"
    }
   ],
   "source": [
    "df_corrected = pd.read_csv('resulting_data/Fluxalp_corrected-snow-precip_2018_2024.dat')\n",
    "df_corrected['datetime'] = pd.to_datetime(df_corrected['datetime'])\n",
    "df_corrected.set_index('datetime', inplace=True)\n",
    "\n",
    "var_to_gapfill = ['short_up_Avg', 'long_up_cor_Avg', 'Quantity_raw', 'AirTC_Avg', 'WindSpeed_Avg', 'Patm_Avg',  'HRair_Avg']\n",
    "df = df_corrected.copy().loc[:,var_to_gapfill]\n",
    "df.head()"
   ]
  },
  {
   "cell_type": "code",
   "execution_count": 4,
   "id": "33ea5ec8-2dd4-4473-bfd0-b1f151c6ba18",
   "metadata": {},
   "outputs": [
    {
     "data": {
      "text/plain": [
       "\" If getting raw fluxalp data is needed\\n\\nfile_dir = '~/private-storage/fluxalp/data_clean_hydro_year/'\\n\\ndf_2018_2019 = fct.read_csv_lautaret(file_dir,'2018-2019')\\ndf_2019_2020 = fct.read_csv_lautaret(file_dir,'2019-2020')\\ndf_2020_2021 = fct.read_csv_lautaret(file_dir,'2020-2021')\\ndf_2021_2022 = fct.read_csv_lautaret(file_dir,'2021-2022')\\ndf_2022_2023 = fct.read_csv_lautaret(file_dir,'2022-2023')\\ndf_2023_2024 = fct.read_csv_lautaret(file_dir,'2023-2024')\\n\\ndf = pd.concat([df_2018_2019, df_2019_2020, df_2020_2021, df_2021_2022, df_2022_2023, df_2023_2024])\\nvar_to_gapfill = ['short_up_Avg', 'long_up_cor_Avg', 'Quantity_raw', 'AirTC_Avg', 'WindSpeed_Avg', 'Patm_Avg',  'HRair_Avg']\\ndf = df.loc[:,var_to_gapfill]\\ndf.head()\\n\""
      ]
     },
     "execution_count": 4,
     "metadata": {},
     "output_type": "execute_result"
    }
   ],
   "source": [
    "\"\"\" If getting raw fluxalp data is needed\n",
    "\n",
    "file_dir = '~/private-storage/fluxalp/data_clean_hydro_year/'\n",
    "\n",
    "df_2018_2019 = fct.read_csv_lautaret(file_dir,'2018-2019')\n",
    "df_2019_2020 = fct.read_csv_lautaret(file_dir,'2019-2020')\n",
    "df_2020_2021 = fct.read_csv_lautaret(file_dir,'2020-2021')\n",
    "df_2021_2022 = fct.read_csv_lautaret(file_dir,'2021-2022')\n",
    "df_2022_2023 = fct.read_csv_lautaret(file_dir,'2022-2023')\n",
    "df_2023_2024 = fct.read_csv_lautaret(file_dir,'2023-2024')\n",
    "\n",
    "df = pd.concat([df_2018_2019, df_2019_2020, df_2020_2021, df_2021_2022, df_2022_2023, df_2023_2024])\n",
    "var_to_gapfill = ['short_up_Avg', 'long_up_cor_Avg', 'Quantity_raw', 'AirTC_Avg', 'WindSpeed_Avg', 'Patm_Avg',  'HRair_Avg']\n",
    "df = df.loc[:,var_to_gapfill]\n",
    "df.head()\n",
    "\"\"\""
   ]
  },
  {
   "cell_type": "markdown",
   "id": "a7569342-2665-466b-9445-b76f2faeb09f",
   "metadata": {},
   "source": [
    "## Missing values status"
   ]
  },
  {
   "cell_type": "code",
   "execution_count": 5,
   "id": "886608e9-4f6d-4f9f-973c-32a5bd4f47dd",
   "metadata": {},
   "outputs": [
    {
     "name": "stdout",
     "output_type": "stream",
     "text": [
      "There is 4355 step with NaN values in short_up_Avg\n",
      "There is 746 step with NaN values in long_up_cor_Avg\n",
      "There is 1196 step with NaN values in Quantity_raw\n",
      "There is 746 step with NaN values in AirTC_Avg\n",
      "There is 746 step with NaN values in WindSpeed_Avg\n",
      "There is 762 step with NaN values in Patm_Avg\n",
      "There is 746 step with NaN values in HRair_Avg\n"
     ]
    }
   ],
   "source": [
    "for var in var_to_gapfill :\n",
    "    print('There is '+str(df[var].isna().sum())+' step with NaN values in '+var)"
   ]
  },
  {
   "cell_type": "markdown",
   "id": "e637e03b-7747-471a-8304-0a2fb1db5b9e",
   "metadata": {},
   "source": [
    "## Gap fill the data\n",
    "**Method :** \n",
    "1. Calculate the length of each gap in the dataset\n",
    "2. Locate small gaps to do a linear interpolation (small gaps = 30min to 3h, except for precipitation, small gaps = 30min to 2h)\n",
    "3. Fill bigger gaps based on a monthly mean day-cycle calculated from the data and adjusted to the gap end data (not applied to precipitation)\n",
    "\n",
    "At each step, another dataframe is completed to note how each value is filled. \\\n",
    "**Annotation code :** \\\n",
    "0 : Data from the Flux'Alp station \\\n",
    "3 : Use other meteorological station nearby \\\n",
    "4 : Linear interpolation \\\n",
    "5 : Temporal mean based on a monthly day cycle \\\n",
    "8 : Using a formula/value from biblio (here : crocus formula)"
   ]
  },
  {
   "cell_type": "markdown",
   "id": "2fe1182c-c196-4880-ab0a-c82487c4048b",
   "metadata": {},
   "source": [
    "### Calculate gap's length in the dataset"
   ]
  },
  {
   "cell_type": "code",
   "execution_count": 6,
   "id": "e50267af-48f1-4669-a4eb-5426d1829765",
   "metadata": {},
   "outputs": [
    {
     "data": {
      "text/html": [
       "<div>\n",
       "<style scoped>\n",
       "    .dataframe tbody tr th:only-of-type {\n",
       "        vertical-align: middle;\n",
       "    }\n",
       "\n",
       "    .dataframe tbody tr th {\n",
       "        vertical-align: top;\n",
       "    }\n",
       "\n",
       "    .dataframe thead th {\n",
       "        text-align: right;\n",
       "    }\n",
       "</style>\n",
       "<table border=\"1\" class=\"dataframe\">\n",
       "  <thead>\n",
       "    <tr style=\"text-align: right;\">\n",
       "      <th></th>\n",
       "      <th>short_up_Avg</th>\n",
       "      <th>long_up_cor_Avg</th>\n",
       "      <th>Quantity_raw</th>\n",
       "      <th>AirTC_Avg</th>\n",
       "      <th>WindSpeed_Avg</th>\n",
       "      <th>Patm_Avg</th>\n",
       "      <th>HRair_Avg</th>\n",
       "    </tr>\n",
       "  </thead>\n",
       "  <tbody>\n",
       "    <tr>\n",
       "      <th>max</th>\n",
       "      <td>47.000000</td>\n",
       "      <td>47.000000</td>\n",
       "      <td>85.000000</td>\n",
       "      <td>47.000000</td>\n",
       "      <td>47.000000</td>\n",
       "      <td>47.000000</td>\n",
       "      <td>47.000000</td>\n",
       "    </tr>\n",
       "    <tr>\n",
       "      <th>min</th>\n",
       "      <td>1.000000</td>\n",
       "      <td>1.000000</td>\n",
       "      <td>1.000000</td>\n",
       "      <td>1.000000</td>\n",
       "      <td>1.000000</td>\n",
       "      <td>1.000000</td>\n",
       "      <td>1.000000</td>\n",
       "    </tr>\n",
       "    <tr>\n",
       "      <th>mean</th>\n",
       "      <td>1.761019</td>\n",
       "      <td>1.722864</td>\n",
       "      <td>4.134948</td>\n",
       "      <td>1.722864</td>\n",
       "      <td>1.722864</td>\n",
       "      <td>1.727891</td>\n",
       "      <td>1.722864</td>\n",
       "    </tr>\n",
       "    <tr>\n",
       "      <th>median</th>\n",
       "      <td>1.000000</td>\n",
       "      <td>1.000000</td>\n",
       "      <td>2.000000</td>\n",
       "      <td>1.000000</td>\n",
       "      <td>1.000000</td>\n",
       "      <td>1.000000</td>\n",
       "      <td>1.000000</td>\n",
       "    </tr>\n",
       "  </tbody>\n",
       "</table>\n",
       "</div>"
      ],
      "text/plain": [
       "        short_up_Avg  long_up_cor_Avg  Quantity_raw  AirTC_Avg  WindSpeed_Avg  \\\n",
       "max        47.000000        47.000000     85.000000  47.000000      47.000000   \n",
       "min         1.000000         1.000000      1.000000   1.000000       1.000000   \n",
       "mean        1.761019         1.722864      4.134948   1.722864       1.722864   \n",
       "median      1.000000         1.000000      2.000000   1.000000       1.000000   \n",
       "\n",
       "         Patm_Avg  HRair_Avg  \n",
       "max     47.000000  47.000000  \n",
       "min      1.000000   1.000000  \n",
       "mean     1.727891   1.722864  \n",
       "median   1.000000   1.000000  "
      ]
     },
     "execution_count": 6,
     "metadata": {},
     "output_type": "execute_result"
    },
    {
     "data": {
      "image/png": "[encoded data removed]",
      "text/plain": [
       "<Figure size 1800x600 with 7 Axes>"
      ]
     },
     "metadata": {},
     "output_type": "display_data"
    }
   ],
   "source": [
    "data_length_gap = pd.DataFrame()\n",
    "fig, ax = plt.subplots(1,7, sharex=True, sharey=True, figsize=(18, 6))\n",
    "\n",
    "for i, var in enumerate(var_to_gapfill) :\n",
    "    # Gap's length written at the beginning of the gaps\n",
    "    df['len_gap_'+var] = gp.calculate_length_gap(df[var])\n",
    "\n",
    "    # Get min, max, mean of the length gap for each variable\n",
    "    data_length_gap[var] = pd.Series([df['len_gap_'+var].max(), df['len_gap_'+var].min(), df['len_gap_'+var].mean(), df['len_gap_'+var].median()])\n",
    "\n",
    "    # Plot the length gap distribution for each variable \n",
    "    df['len_gap_'+var].plot(kind='hist', bins = 46, ax = ax[i], edgecolor='none', title=var, xlabel='Gap length').set_yscale(\"log\")\n",
    "\n",
    "    # Write the gap's at every row in all the data set\n",
    "    df.loc[(df[var].isna() == False), 'len_gap_'+var] = 0\n",
    "    df['len_gap_'+var] = df['len_gap_'+var].ffill()\n",
    "\n",
    "\n",
    "data_length_gap.rename(index={0 : 'max', 1 : 'min', 2 : 'mean', 3: 'median'}, inplace =True)\n",
    "data_length_gap"
   ]
  },
  {
   "cell_type": "markdown",
   "id": "3095f1d5-3e74-4cb8-9cc6-e928f4645ae3",
   "metadata": {},
   "source": [
    "### Linear interpolation for small gaps "
   ]
  },
  {
   "cell_type": "code",
   "execution_count": 7,
   "id": "31d0c296-efa6-4d63-beb6-0442ea3e25f9",
   "metadata": {},
   "outputs": [],
   "source": [
    "df.loc[df['len_gap_Quantity_raw'].isin([1,2,3,4]),'Quantity_raw'] = df['Quantity_raw'].interpolate(method='linear')\n",
    "\n",
    "for var in ['short_up_Avg', 'long_up_cor_Avg','AirTC_Avg', 'WindSpeed_Avg', 'Patm_Avg',  'HRair_Avg'] :\n",
    "    df.loc[df['len_gap_'+var].isin([1,2,3,4,5,6]),var] = df[var].interpolate(method='linear')"
   ]
  },
  {
   "cell_type": "code",
   "execution_count": 8,
   "id": "140aff26-fa7b-4cdc-adf6-e51354bd03f8",
   "metadata": {},
   "outputs": [],
   "source": [
    "df_gapfilling_annotation = df.copy()\n",
    "df_gapfilling_annotation = df_gapfilling_annotation.loc[:,var_to_gapfill]\n",
    "\n",
    "#Annotation code for gapfilling : 0 for observation data\n",
    "for var in var_to_gapfill :\n",
    "    df_gapfilling_annotation.loc[df_gapfilling_annotation[var].isna()==False, var] = 0\n",
    "\n",
    "# Annotation code for gapfilling : 4 for linear interpolation\n",
    "df_gapfilling_annotation.loc[df['len_gap_Quantity_raw'].isin([1,2,3,4]), 'Quantity_raw'] = 4\n",
    "for var in ['short_up_Avg', 'long_up_cor_Avg','AirTC_Avg', 'WindSpeed_Avg', 'Patm_Avg',  'HRair_Avg'] :\n",
    "    df_gapfilling_annotation.loc[df['len_gap_'+var].isin([1,2,3,4,5,6]),var] = 4"
   ]
  },
  {
   "cell_type": "markdown",
   "id": "4840bcf8-63a7-4efa-a605-41d3d0d12e48",
   "metadata": {},
   "source": [
    "### Fill bigger gaps"
   ]
  },
  {
   "cell_type": "code",
   "execution_count": 9,
   "id": "64e6b875-1d4d-44c8-aca9-33800a3cca9c",
   "metadata": {},
   "outputs": [],
   "source": [
    "df['short_up_Avg'] = gp.gap_filling(df, 'short_up_Avg', no_b=True)\n",
    "for var in ['long_up_cor_Avg', 'AirTC_Avg', 'WindSpeed_Avg', 'Patm_Avg', 'HRair_Avg'] : \n",
    "    df[var] = gp.gap_filling(df,var)"
   ]
  },
  {
   "cell_type": "code",
   "execution_count": 10,
   "id": "8fed0b45-0063-4d46-82e3-14e6f60e8e22",
   "metadata": {},
   "outputs": [],
   "source": [
    "# Annotation code for gapfilling : 5 for temporal mean\n",
    "for var in ['short_up_Avg', 'long_up_cor_Avg', 'AirTC_Avg', 'WindSpeed_Avg', 'Patm_Avg', 'HRair_Avg'] :\n",
    "    df_gapfilling_annotation.loc[df_gapfilling_annotation[var].isna(), var] = 5"
   ]
  },
  {
   "cell_type": "markdown",
   "id": "69fe27d3-a6c0-4d71-b3a4-1afd915ee3cb",
   "metadata": {},
   "source": [
    "## Missing values status"
   ]
  },
  {
   "cell_type": "code",
   "execution_count": 11,
   "id": "63cdea58-1de2-455d-a45a-0d5dd943e707",
   "metadata": {},
   "outputs": [
    {
     "name": "stdout",
     "output_type": "stream",
     "text": [
      "There is 0 step with NaN values in short_up_Avg\n",
      "There is 0 step with NaN values in long_up_cor_Avg\n",
      "There is 657 step with NaN values in Quantity_raw\n",
      "There is 0 step with NaN values in AirTC_Avg\n",
      "There is 0 step with NaN values in WindSpeed_Avg\n",
      "There is 0 step with NaN values in Patm_Avg\n",
      "There is 0 step with NaN values in HRair_Avg\n"
     ]
    }
   ],
   "source": [
    "for var in var_to_gapfill :\n",
    "    print('There is '+str(df[var].isna().sum())+' step with NaN values in '+var)"
   ]
  },
  {
   "cell_type": "markdown",
   "id": "4861de51-c75a-454c-bd6a-0b53640aa264",
   "metadata": {},
   "source": [
    "### Periods left to gapfill for precip (var = 'Quantity_raw') "
   ]
  },
  {
   "cell_type": "code",
   "execution_count": 12,
   "id": "6a1c04f9-17ce-4d77-8bde-d6a10683e823",
   "metadata": {},
   "outputs": [
    {
     "name": "stdout",
     "output_type": "stream",
     "text": [
      "Dates left to fill precip are :\n",
      "2018-10-17\n",
      "2019-09-16\n",
      "2019-09-17\n",
      "2020-09-29\n",
      "2020-09-30\n",
      "2020-10-01\n",
      "2020-10-02\n",
      "2020-10-03\n",
      "2020-10-04\n",
      "2020-10-05\n",
      "2020-10-06\n",
      "2020-10-07\n",
      "2020-10-08\n",
      "2020-10-09\n",
      "2020-10-10\n",
      "2020-10-11\n",
      "2020-10-12\n",
      "2020-12-08\n",
      "2020-12-10\n",
      "2020-12-13\n",
      "2020-12-15\n",
      "2020-12-20\n",
      "2021-01-03\n",
      "2021-01-18\n",
      "2022-10-27\n",
      "2023-11-05\n",
      "2023-11-06\n",
      "2023-11-08\n",
      "2024-03-30\n",
      "2024-03-31\n",
      "2024-06-12\n"
     ]
    }
   ],
   "source": [
    "dates = df['Quantity_raw'].isna().groupby(df.index.date).agg('max')\n",
    "print('Dates left to fill precip are :')\n",
    "for i,x in dates.items() :\n",
    "    if x == True:\n",
    "        print(i)"
   ]
  },
  {
   "cell_type": "markdown",
   "id": "0abe6398-f1cd-4490-9784-d20b975e91d7",
   "metadata": {},
   "source": [
    "## Writing data filled in a file"
   ]
  },
  {
   "cell_type": "code",
   "execution_count": 13,
   "id": "6e73cbde-cefa-4612-9e85-59c8e526ba66",
   "metadata": {},
   "outputs": [],
   "source": [
    "output_file = df_corrected.copy()\n",
    "for var in var_to_gapfill:\n",
    "    output_file[var] = df[var]\n",
    "\n",
    "output_file['len_gap_Quantity_raw'] = df['len_gap_Quantity_raw']"
   ]
  },
  {
   "cell_type": "code",
   "execution_count": 14,
   "id": "f8a0d81c-f889-48c5-9c34-3362d50300dc",
   "metadata": {},
   "outputs": [],
   "source": [
    "output_file.to_csv('resulting_data/Fluxalp_auto-filled_2018_2024.dat')"
   ]
  },
  {
   "cell_type": "code",
   "execution_count": 15,
   "id": "69ed95d4-b6c8-48ee-a85c-b926d5db659d",
   "metadata": {},
   "outputs": [],
   "source": [
    "df_gapfilling_annotation.to_csv('resulting_data/Annotation_fluxalp_filled_2018_2024.dat')"
   ]
  },
  {
   "cell_type": "markdown",
   "id": "1b540b85-5878-4970-82b0-ae4b4902ca64",
   "metadata": {},
   "source": [
    "## Ideas to go further :\n",
    "1. Add a critic analysis of the method to verify it\n",
    "2. "
   ]
  },
  {
   "cell_type": "code",
   "execution_count": null,
   "id": "6bb6d0f8-13bc-4385-8852-17445398c641",
   "metadata": {},
   "outputs": [],
   "source": []
  }
 ],
 "metadata": {
  "kernelspec": {
   "display_name": "Python 3 (ipykernel)",
   "language": "python",
   "name": "python3"
  },
  "language_info": {
   "codemirror_mode": {
    "name": "ipython",
    "version": 3
   },
   "file_extension": ".py",
   "mimetype": "text/x-python",
   "name": "python",
   "nbconvert_exporter": "python",
   "pygments_lexer": "ipython3",
   "version": "3.12.8"
  }
 },
 "nbformat": 4,
 "nbformat_minor": 5
}
