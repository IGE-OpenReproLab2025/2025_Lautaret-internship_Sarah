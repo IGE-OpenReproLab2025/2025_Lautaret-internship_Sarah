{
 "cells": [
  {
   "cell_type": "markdown",
   "id": "3bce78a0-7382-45ea-bf2d-bf79320358cf",
   "metadata": {},
   "source": [
    "# Correcting Undercatched solid precipitation\n",
    "\n",
    "--- \n",
    "**Date** : 30/04/2025 \\\n",
    "**Data used** : Lautaret's data : *https://gricad-gitlab.univ-grenoble-alpes.fr/lautaret/fluxalp/-/tree/master/data_clean_hydro_year?ref_type=heads* \\\n",
    "**Biblio used** : Kochendorfer, J., et. al. : *Analysis of single-Alter-shielded and unshielded measurements of mixed and solid precipitation from WMO-SPICE*, Hydrol. Earth Syst. Sci., 21, 3525–3542, https://doi.org/10.5194/hess-21-3525-2017, 2017. \\\n",
    "**Practical steps** :\n",
    "1. Read Flux'Alp data\n",
    "2. Locate snow precipitation (snow-rain limit = 1°C)\n",
    "3. Calcul catch efficiency coefficient of the gauge\n",
    "4. Correct precipitation amount\n",
    "5. Write data in a file"
   ]
  },
  {
   "cell_type": "markdown",
   "id": "b4c794a2-3a8f-4fc3-b554-d8533cfe4ad3",
   "metadata": {},
   "source": [
    "## Import"
   ]
  },
  {
   "cell_type": "code",
   "execution_count": 1,
   "id": "7aade9fe-df4b-4cb0-9a5b-2d270f47f6c0",
   "metadata": {},
   "outputs": [],
   "source": [
    "import sys\n",
    "import pandas as pd\n",
    "import seaborn as sns\n",
    "import matplotlib.pyplot as plt\n",
    "\n",
    "sys.path.append(\"../scripts/\")\n",
    "import file_functions as fct"
   ]
  },
  {
   "cell_type": "markdown",
   "id": "e9c77089-5652-4ad8-baab-45ac800fcc6d",
   "metadata": {},
   "source": [
    "## Read data 2018-2024"
   ]
  },
  {
   "cell_type": "code",
   "execution_count": 3,
   "id": "df6bffd9-35ac-4535-990c-3b77d58ff781",
   "metadata": {},
   "outputs": [
    {
     "data": {
      "text/html": [
       "<div>\n",
       "<style scoped>\n",
       "    .dataframe tbody tr th:only-of-type {\n",
       "        vertical-align: middle;\n",
       "    }\n",
       "\n",
       "    .dataframe tbody tr th {\n",
       "        vertical-align: top;\n",
       "    }\n",
       "\n",
       "    .dataframe thead th {\n",
       "        text-align: right;\n",
       "    }\n",
       "</style>\n",
       "<table border=\"1\" class=\"dataframe\">\n",
       "  <thead>\n",
       "    <tr style=\"text-align: right;\">\n",
       "      <th></th>\n",
       "      <th>short_up_Avg</th>\n",
       "      <th>Albedo_Avg</th>\n",
       "      <th>long_up_cor_Avg</th>\n",
       "      <th>Quantity_raw</th>\n",
       "      <th>AirTC_Avg</th>\n",
       "      <th>WindSpeed_Avg</th>\n",
       "      <th>Patm_Avg</th>\n",
       "      <th>HRair_Avg</th>\n",
       "      <th>Snow_Depth</th>\n",
       "    </tr>\n",
       "    <tr>\n",
       "      <th>datetime</th>\n",
       "      <th></th>\n",
       "      <th></th>\n",
       "      <th></th>\n",
       "      <th></th>\n",
       "      <th></th>\n",
       "      <th></th>\n",
       "      <th></th>\n",
       "      <th></th>\n",
       "      <th></th>\n",
       "    </tr>\n",
       "  </thead>\n",
       "  <tbody>\n",
       "    <tr>\n",
       "      <th>2018-10-17 00:00:00+00:00</th>\n",
       "      <td>-1.439137</td>\n",
       "      <td>NaN</td>\n",
       "      <td>308.8568</td>\n",
       "      <td>NaN</td>\n",
       "      <td>5.4218</td>\n",
       "      <td>2.132</td>\n",
       "      <td>798.9</td>\n",
       "      <td>88.14690</td>\n",
       "      <td>NaN</td>\n",
       "    </tr>\n",
       "    <tr>\n",
       "      <th>2018-10-17 00:30:00+00:00</th>\n",
       "      <td>-2.261506</td>\n",
       "      <td>NaN</td>\n",
       "      <td>286.7975</td>\n",
       "      <td>0.0</td>\n",
       "      <td>5.4869</td>\n",
       "      <td>2.888</td>\n",
       "      <td>798.8</td>\n",
       "      <td>86.68269</td>\n",
       "      <td>NaN</td>\n",
       "    </tr>\n",
       "    <tr>\n",
       "      <th>2018-10-17 01:00:00+00:00</th>\n",
       "      <td>-2.656018</td>\n",
       "      <td>NaN</td>\n",
       "      <td>280.6507</td>\n",
       "      <td>0.0</td>\n",
       "      <td>5.2648</td>\n",
       "      <td>3.013</td>\n",
       "      <td>798.7</td>\n",
       "      <td>86.10909</td>\n",
       "      <td>NaN</td>\n",
       "    </tr>\n",
       "    <tr>\n",
       "      <th>2018-10-17 01:30:00+00:00</th>\n",
       "      <td>-2.617169</td>\n",
       "      <td>NaN</td>\n",
       "      <td>279.7586</td>\n",
       "      <td>0.0</td>\n",
       "      <td>5.2203</td>\n",
       "      <td>1.799</td>\n",
       "      <td>798.6</td>\n",
       "      <td>87.65050</td>\n",
       "      <td>NaN</td>\n",
       "    </tr>\n",
       "    <tr>\n",
       "      <th>2018-10-17 02:00:00+00:00</th>\n",
       "      <td>-3.045069</td>\n",
       "      <td>NaN</td>\n",
       "      <td>264.3238</td>\n",
       "      <td>0.0</td>\n",
       "      <td>4.7687</td>\n",
       "      <td>2.194</td>\n",
       "      <td>798.4</td>\n",
       "      <td>89.26050</td>\n",
       "      <td>NaN</td>\n",
       "    </tr>\n",
       "  </tbody>\n",
       "</table>\n",
       "</div>"
      ],
      "text/plain": [
       "                           short_up_Avg  Albedo_Avg  long_up_cor_Avg  \\\n",
       "datetime                                                               \n",
       "2018-10-17 00:00:00+00:00     -1.439137         NaN         308.8568   \n",
       "2018-10-17 00:30:00+00:00     -2.261506         NaN         286.7975   \n",
       "2018-10-17 01:00:00+00:00     -2.656018         NaN         280.6507   \n",
       "2018-10-17 01:30:00+00:00     -2.617169         NaN         279.7586   \n",
       "2018-10-17 02:00:00+00:00     -3.045069         NaN         264.3238   \n",
       "\n",
       "                           Quantity_raw  AirTC_Avg  WindSpeed_Avg  Patm_Avg  \\\n",
       "datetime                                                                      \n",
       "2018-10-17 00:00:00+00:00           NaN     5.4218          2.132     798.9   \n",
       "2018-10-17 00:30:00+00:00           0.0     5.4869          2.888     798.8   \n",
       "2018-10-17 01:00:00+00:00           0.0     5.2648          3.013     798.7   \n",
       "2018-10-17 01:30:00+00:00           0.0     5.2203          1.799     798.6   \n",
       "2018-10-17 02:00:00+00:00           0.0     4.7687          2.194     798.4   \n",
       "\n",
       "                           HRair_Avg  Snow_Depth  \n",
       "datetime                                          \n",
       "2018-10-17 00:00:00+00:00   88.14690         NaN  \n",
       "2018-10-17 00:30:00+00:00   86.68269         NaN  \n",
       "2018-10-17 01:00:00+00:00   86.10909         NaN  \n",
       "2018-10-17 01:30:00+00:00   87.65050         NaN  \n",
       "2018-10-17 02:00:00+00:00   89.26050         NaN  "
      ]
     },
     "execution_count": 3,
     "metadata": {},
     "output_type": "execute_result"
    }
   ],
   "source": [
    "file_dir = '~/private-storage/fluxalp/data_clean_hydro_year/'\n",
    "\n",
    "df_2018_2019 = fct.read_csv_lautaret(file_dir,'2018-2019')\n",
    "df_2019_2020 = fct.read_csv_lautaret(file_dir,'2019-2020')\n",
    "df_2020_2021 = fct.read_csv_lautaret(file_dir,'2020-2021')\n",
    "df_2021_2022 = fct.read_csv_lautaret(file_dir,'2021-2022')\n",
    "df_2022_2023 = fct.read_csv_lautaret(file_dir,'2022-2023')\n",
    "df_2023_2024 = fct.read_csv_lautaret(file_dir,'2023-2024')\n",
    "\n",
    "df_raw = pd.concat([df_2018_2019, df_2019_2020, df_2020_2021, df_2021_2022, df_2022_2023, df_2023_2024])\n",
    "variables_util = ['short_up_Avg', 'Albedo_Avg', 'long_up_cor_Avg', 'Quantity_raw', 'AirTC_Avg', 'WindSpeed_Avg', 'Patm_Avg',  'HRair_Avg', 'Snow_Depth']\n",
    "df = df_raw.copy().loc[:,variables_util]\n",
    "df.head()"
   ]
  },
  {
   "cell_type": "markdown",
   "id": "7a8969d4-d19a-46cd-96f3-85a13d7c211c",
   "metadata": {},
   "source": [
    "## Precipitation under T = 1°C is considered as solid precipitation"
   ]
  },
  {
   "cell_type": "code",
   "execution_count": 3,
   "id": "6715f782-4089-4168-87dd-fe3edd64a4dc",
   "metadata": {},
   "outputs": [],
   "source": [
    "rain_snow_limit = 1\n",
    "precip_snow = df.loc[df['AirTC_Avg']<=rain_snow_limit, 'Quantity_raw']"
   ]
  },
  {
   "cell_type": "markdown",
   "id": "0f60eeb8-0fd7-4fb1-adc0-3e6a6f53b52d",
   "metadata": {},
   "source": [
    "## Calcul catch efficiency coefficient"
   ]
  },
  {
   "cell_type": "code",
   "execution_count": 4,
   "id": "6a4e2b76-88eb-4f05-8f7d-55e2c6c0a150",
   "metadata": {},
   "outputs": [],
   "source": [
    "df.loc['2018' : '2021-05', 'catch_efficiency'] = fct.catch_efficiency_unshield(df.loc['2018' : '2021-05', 'AirTC_Avg'], df.loc['2018' : '2021-05', 'WindSpeed_Avg'])\n",
    "df.loc['2021-06' : '2024', 'catch_efficiency'] = fct.catch_efficiency_single_alter(df.loc['2021-06' : '2024', 'AirTC_Avg'], df.loc['2021-06' : '2024', 'WindSpeed_Avg'])"
   ]
  },
  {
   "cell_type": "markdown",
   "id": "3ec244f8-54be-4081-8bd7-8dec7cdd3e73",
   "metadata": {},
   "source": [
    "## Correction of precipitation"
   ]
  },
  {
   "cell_type": "code",
   "execution_count": 5,
   "id": "7913b307-12a6-4adb-b435-df10af34483e",
   "metadata": {},
   "outputs": [],
   "source": [
    "precip_snow_corr = precip_snow + ( 1 - df.loc[precip_snow.index,'catch_efficiency']) * precip_snow\n",
    "\n",
    "df.loc[precip_snow_corr.index, 'Quantity_raw'] = precip_snow_corr"
   ]
  },
  {
   "cell_type": "markdown",
   "id": "21634349-7d8e-4508-a0f0-dd46bce14bf0",
   "metadata": {},
   "source": [
    "## Comparison with data not corrected"
   ]
  },
  {
   "cell_type": "code",
   "execution_count": 6,
   "id": "48d8f11f-43b5-4576-bc91-87d15f227b45",
   "metadata": {},
   "outputs": [
    {
     "data": {
      "image/png": "[encoded data removed]",
      "text/plain": [
       "<Figure size 640x480 with 1 Axes>"
      ]
     },
     "metadata": {},
     "output_type": "display_data"
    }
   ],
   "source": [
    "plt.plot(precip_snow, precip_snow_corr, '.')\n",
    "plt.xlabel('Snow precipitation without correction (mm)')\n",
    "plt.ylabel('Snow precipitation with correction (mm)')\n",
    "plt.grid()"
   ]
  },
  {
   "cell_type": "code",
   "execution_count": 17,
   "id": "e1226be6-5910-44da-b496-1009a1321d93",
   "metadata": {},
   "outputs": [],
   "source": [
    "hydro_year = ['2018-2019', '2019-2020', '2020-2021', '2021-2022', '2022-2023', '2023-2024']\n",
    "\n",
    "stats = pd.DataFrame(index = hydro_year)\n",
    "\n",
    "for i in hydro_year :\n",
    "    stats.loc[i,'cumul precip snow'] = precip_snow.loc[i[:4]+'-10-17' : i[5:]+'-10-16'].sum()\n",
    "    stats.loc[i,'cumul precip snow corrected'] = round(precip_snow_corr.loc[i[:4]+'-10-17' : i[5:]+'-10-16'].sum(),2)\n",
    "    stats.loc[i,'annual mean precip snow'] = round(precip_snow.loc[i[:4]+'-10-17' : i[5:]+'-10-16'].mean(),3)\n",
    "    stats.loc[i,'annual mean precip snow corrected'] = round(precip_snow_corr.loc[i[:4]+'-10-17' : i[5:]+'-10-16'].mean(),3)"
   ]
  },
  {
   "cell_type": "code",
   "execution_count": 18,
   "id": "0749eb3f-d2a3-4c92-bc80-b60d90c3c42f",
   "metadata": {},
   "outputs": [
    {
     "data": {
      "text/html": [
       "<div>\n",
       "<style scoped>\n",
       "    .dataframe tbody tr th:only-of-type {\n",
       "        vertical-align: middle;\n",
       "    }\n",
       "\n",
       "    .dataframe tbody tr th {\n",
       "        vertical-align: top;\n",
       "    }\n",
       "\n",
       "    .dataframe thead th {\n",
       "        text-align: right;\n",
       "    }\n",
       "</style>\n",
       "<table border=\"1\" class=\"dataframe\">\n",
       "  <thead>\n",
       "    <tr style=\"text-align: right;\">\n",
       "      <th></th>\n",
       "      <th>cumul precip snow</th>\n",
       "      <th>cumul precip snow corrected</th>\n",
       "      <th>annual mean precip snow</th>\n",
       "      <th>annual mean precip snow corrected</th>\n",
       "    </tr>\n",
       "  </thead>\n",
       "  <tbody>\n",
       "    <tr>\n",
       "      <th>2018-2019</th>\n",
       "      <td>346.11</td>\n",
       "      <td>480.02</td>\n",
       "      <td>0.056</td>\n",
       "      <td>0.077</td>\n",
       "    </tr>\n",
       "    <tr>\n",
       "      <th>2019-2020</th>\n",
       "      <td>381.09</td>\n",
       "      <td>558.19</td>\n",
       "      <td>0.064</td>\n",
       "      <td>0.094</td>\n",
       "    </tr>\n",
       "    <tr>\n",
       "      <th>2020-2021</th>\n",
       "      <td>309.40</td>\n",
       "      <td>420.93</td>\n",
       "      <td>0.050</td>\n",
       "      <td>0.068</td>\n",
       "    </tr>\n",
       "    <tr>\n",
       "      <th>2021-2022</th>\n",
       "      <td>271.98</td>\n",
       "      <td>347.01</td>\n",
       "      <td>0.050</td>\n",
       "      <td>0.064</td>\n",
       "    </tr>\n",
       "    <tr>\n",
       "      <th>2022-2023</th>\n",
       "      <td>368.21</td>\n",
       "      <td>459.10</td>\n",
       "      <td>0.064</td>\n",
       "      <td>0.080</td>\n",
       "    </tr>\n",
       "    <tr>\n",
       "      <th>2023-2024</th>\n",
       "      <td>580.65</td>\n",
       "      <td>730.27</td>\n",
       "      <td>0.100</td>\n",
       "      <td>0.126</td>\n",
       "    </tr>\n",
       "  </tbody>\n",
       "</table>\n",
       "</div>"
      ],
      "text/plain": [
       "           cumul precip snow  cumul precip snow corrected  \\\n",
       "2018-2019             346.11                       480.02   \n",
       "2019-2020             381.09                       558.19   \n",
       "2020-2021             309.40                       420.93   \n",
       "2021-2022             271.98                       347.01   \n",
       "2022-2023             368.21                       459.10   \n",
       "2023-2024             580.65                       730.27   \n",
       "\n",
       "           annual mean precip snow  annual mean precip snow corrected  \n",
       "2018-2019                    0.056                              0.077  \n",
       "2019-2020                    0.064                              0.094  \n",
       "2020-2021                    0.050                              0.068  \n",
       "2021-2022                    0.050                              0.064  \n",
       "2022-2023                    0.064                              0.080  \n",
       "2023-2024                    0.100                              0.126  "
      ]
     },
     "execution_count": 18,
     "metadata": {},
     "output_type": "execute_result"
    }
   ],
   "source": [
    "stats"
   ]
  },
  {
   "cell_type": "markdown",
   "id": "bfec7e10-4b1c-47b7-87c5-8d4c2ae11ad9",
   "metadata": {},
   "source": [
    "## Writing data corrected in a file"
   ]
  },
  {
   "cell_type": "code",
   "execution_count": 7,
   "id": "fb210cda-2702-4ae7-bacc-cbed6ebb6b75",
   "metadata": {},
   "outputs": [],
   "source": [
    "output_file = df_raw.copy()\n",
    "output_file['Quantity_raw'] = df['Quantity_raw']\n",
    "output_file.to_csv('resulting_data/Fluxalp_corrected-snow-precip_2018_2024.dat')"
   ]
  }
 ],
 "metadata": {
  "kernelspec": {
   "display_name": "Parflow Env",
   "language": "python",
   "name": "parflow"
  },
  "language_info": {
   "codemirror_mode": {
    "name": "ipython",
    "version": 3
   },
   "file_extension": ".py",
   "mimetype": "text/x-python",
   "name": "python",
   "nbconvert_exporter": "python",
   "pygments_lexer": "ipython3",
   "version": "3.10.16"
  }
 },
 "nbformat": 4,
 "nbformat_minor": 5
}
